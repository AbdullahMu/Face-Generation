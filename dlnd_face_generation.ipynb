{
 "cells": [
  {
   "cell_type": "markdown",
   "metadata": {},
   "source": [
    "# Face Generation\n",
    "\n",
    "In this project, you'll define and train a DCGAN on a dataset of faces. Your goal is to get a generator network to generate *new* images of faces that look as realistic as possible!\n",
    "\n",
    "The project will be broken down into a series of tasks from **loading in data to defining and training adversarial networks**. At the end of the notebook, you'll be able to visualize the results of your trained Generator to see how it performs; your generated samples should look like fairly realistic faces with small amounts of noise.\n",
    "\n",
    "### Get the Data\n",
    "\n",
    "You'll be using the [CelebFaces Attributes Dataset (CelebA)](http://mmlab.ie.cuhk.edu.hk/projects/CelebA.html) to train your adversarial networks.\n",
    "\n",
    "This dataset is more complex than the number datasets (like MNIST or SVHN) you've been working with, and so, you should prepare to define deeper networks and train them for a longer time to get good results. It is suggested that you utilize a GPU for training.\n",
    "\n",
    "### Pre-processed Data\n",
    "\n",
    "Since the project's main focus is on building the GANs, we've done *some* of the pre-processing for you. Each of the CelebA images has been cropped to remove parts of the image that don't include a face, then resized down to 64x64x3 NumPy images. Some sample data is show below.\n",
    "\n",
    "<img src='assets/processed_face_data.png' width=60% />\n",
    "\n",
    "> If you are working locally, you can download this data [by clicking here](https://s3.amazonaws.com/video.udacity-data.com/topher/2018/November/5be7eb6f_processed-celeba-small/processed-celeba-small.zip)\n",
    "\n",
    "This is a zip file that you'll need to extract in the home directory of this notebook for further loading and processing. After extracting the data, you should be left with a directory of data `processed_celeba_small/`"
   ]
  },
  {
   "cell_type": "code",
   "execution_count": 1,
   "metadata": {},
   "outputs": [
    {
     "name": "stdout",
     "output_type": "stream",
     "text": [
      "Archive:  processed_celeba_small.zip\n",
      "replace processed_celeba_small/.DS_Store? [y]es, [n]o, [A]ll, [N]one, [r]ename: ^C\n"
     ]
    }
   ],
   "source": [
    "# can comment out after executing\n",
    "!unzip processed_celeba_small.zip"
   ]
  },
  {
   "cell_type": "code",
   "execution_count": 2,
   "metadata": {},
   "outputs": [],
   "source": [
    "data_dir = 'processed_celeba_small/'\n",
    "\n",
    "\"\"\"\n",
    "DON'T MODIFY ANYTHING IN THIS CELL\n",
    "\"\"\"\n",
    "import pickle as pkl\n",
    "import matplotlib.pyplot as plt\n",
    "import numpy as np\n",
    "import problem_unittests as tests\n",
    "#import helper\n",
    "\n",
    "%matplotlib inline"
   ]
  },
  {
   "cell_type": "markdown",
   "metadata": {},
   "source": [
    "## Visualize the CelebA Data\n",
    "\n",
    "The [CelebA](http://mmlab.ie.cuhk.edu.hk/projects/CelebA.html) dataset contains over 200,000 celebrity images with annotations. Since you're going to be generating faces, you won't need the annotations, you'll only need the images. Note that these are color images with [3 color channels (RGB)](https://en.wikipedia.org/wiki/Channel_(digital_image)#RGB_Images) each.\n",
    "\n",
    "### Pre-process and Load the Data\n",
    "\n",
    "Since the project's main focus is on building the GANs, we've done *some* of the pre-processing for you. Each of the CelebA images has been cropped to remove parts of the image that don't include a face, then resized down to 64x64x3 NumPy images. This *pre-processed* dataset is a smaller subset of the very large CelebA data.\n",
    "\n",
    "> There are a few other steps that you'll need to **transform** this data and create a **DataLoader**.\n",
    "\n",
    "#### Exercise: Complete the following `get_dataloader` function, such that it satisfies these requirements:\n",
    "\n",
    "* Your images should be square, Tensor images of size `image_size x image_size` in the x and y dimension.\n",
    "* Your function should return a DataLoader that shuffles and batches these Tensor images.\n",
    "\n",
    "#### ImageFolder\n",
    "\n",
    "To create a dataset given a directory of images, it's recommended that you use PyTorch's [ImageFolder](https://pytorch.org/docs/stable/torchvision/datasets.html#imagefolder) wrapper, with a root directory `processed_celeba_small/` and data transformation passed in."
   ]
  },
  {
   "cell_type": "code",
   "execution_count": 3,
   "metadata": {},
   "outputs": [],
   "source": [
    "# necessary imports\n",
    "import torch\n",
    "from torchvision import datasets\n",
    "from torchvision import transforms"
   ]
  },
  {
   "cell_type": "code",
   "execution_count": 12,
   "metadata": {},
   "outputs": [],
   "source": [
    "def get_dataloader(batch_size, image_size, data_dir='processed_celeba_small/'):\n",
    "    \"\"\"\n",
    "    Batch the neural network data using DataLoader\n",
    "    :param batch_size: The size of each batch; the number of images in a batch\n",
    "    :param img_size: The square size of the image data (x, y)\n",
    "    :param data_dir: Directory where image data is located\n",
    "    :return: DataLoader with batched data\n",
    "    \"\"\"\n",
    "    \n",
    "    # TODO: Implement function and return a dataloader\n",
    "    transform = transforms.Compose([transforms.Resize(image_size), \n",
    "                                    transforms.ToTensor()])\n",
    "    \n",
    "\n",
    "    # define datasets using ImageFolder\n",
    "    dir_dataset = datasets.ImageFolder(data_dir, transform)\n",
    "\n",
    "    # create and return DataLoaders\n",
    "    data_loader = torch.utils.data.DataLoader(dataset=dir_dataset, batch_size=batch_size, shuffle=True)\n",
    "    \n",
    "    return data_loader\n",
    "    "
   ]
  },
  {
   "cell_type": "code",
   "execution_count": 13,
   "metadata": {},
   "outputs": [],
   "source": [
    "# #install Python bindings to the NVIDIA Management Library\n",
    "# pip install .\n",
    "torch.cuda.empty_cache()"
   ]
  },
  {
   "cell_type": "code",
   "execution_count": 14,
   "metadata": {},
   "outputs": [
    {
     "name": "stdout",
     "output_type": "stream",
     "text": [
      "total    : 11996954624\n",
      "free     : 183296\n",
      "used     : 865280\n"
     ]
    }
   ],
   "source": [
    "t = torch.cuda.get_device_properties(0).total_memory\n",
    "c = torch.cuda.memory_cached(0)\n",
    "a = torch.cuda.memory_allocated(0)\n",
    "f = c-a  # free inside cache\n",
    "\n",
    "# from pynvml import *\n",
    "# nvmlInit()\n",
    "# h = nvmlDeviceGetHandleByIndex(0)\n",
    "# info = nvmlDeviceGetMemoryInfo(h)\n",
    "\n",
    "# print(f'total    : {info.total}')\n",
    "# print(f'free     : {info.free}')\n",
    "# print(f'used     : {info.used}')\n",
    "\n",
    "print(f'total    : {t}')\n",
    "print(f'free     : {f}')\n",
    "print(f'used     : {a}')\n",
    "\n"
   ]
  },
  {
   "cell_type": "markdown",
   "metadata": {},
   "source": [
    "## Create a DataLoader\n",
    "\n",
    "#### Exercise: Create a DataLoader `celeba_train_loader` with appropriate hyperparameters.\n",
    "\n",
    "Call the above function and create a dataloader to view images. \n",
    "* You can decide on any reasonable `batch_size` parameter\n",
    "* Your `image_size` **must be** `32`. Resizing the data to a smaller size will make for faster training, while still creating convincing images of faces!"
   ]
  },
  {
   "cell_type": "code",
   "execution_count": 19,
   "metadata": {},
   "outputs": [],
   "source": [
    "# Define function hyperparameters\n",
    "batch_size = 128\n",
    "img_size = 32\n",
    "\n",
    "\"\"\"\n",
    "DON'T MODIFY ANYTHING IN THIS CELL THAT IS BELOW THIS LINE\n",
    "\"\"\"\n",
    "# Call your function and get a dataloader\n",
    "celeba_train_loader = get_dataloader(batch_size, img_size)\n"
   ]
  },
  {
   "cell_type": "markdown",
   "metadata": {},
   "source": [
    "Next, you can view some images! You should seen square images of somewhat-centered faces.\n",
    "\n",
    "Note: You'll need to convert the Tensor images into a NumPy type and transpose the dimensions to correctly display an image, suggested `imshow` code is below, but it may not be perfect."
   ]
  },
  {
   "cell_type": "code",
   "execution_count": 20,
   "metadata": {},
   "outputs": [
    {
     "data": {
      "image/png": "[encoded data removed]",
      "text/plain": [
       "<matplotlib.figure.Figure at 0x7f23f081d208>"
      ]
     },
     "metadata": {},
     "output_type": "display_data"
    }
   ],
   "source": [
    "# helper display function\n",
    "def imshow(img):\n",
    "    npimg = img.numpy()\n",
    "    plt.imshow(np.transpose(npimg, (1, 2, 0)))\n",
    "\n",
    "\"\"\"\n",
    "DON'T MODIFY ANYTHING IN THIS CELL THAT IS BELOW THIS LINE\n",
    "\"\"\"\n",
    "# obtain one batch of training images\n",
    "dataiter = iter(celeba_train_loader)\n",
    "images, _ = next(dataiter) # _ for no labels\n",
    "\n",
    "# plot the images in the batch, along with the corresponding labels\n",
    "fig = plt.figure(figsize=(20, 4))\n",
    "plot_size=20\n",
    "for idx in np.arange(plot_size):\n",
    "    ax = fig.add_subplot(2, plot_size/2, idx+1, xticks=[], yticks=[])\n",
    "    imshow(images[idx])"
   ]
  },
  {
   "cell_type": "markdown",
   "metadata": {},
   "source": [
    "#### Exercise: Pre-process your image data and scale it to a pixel range of -1 to 1\n",
    "\n",
    "You need to do a bit of pre-processing; you know that the output of a `tanh` activated generator will contain pixel values in a range from -1 to 1, and so, we need to rescale our training images to a range of -1 to 1. (Right now, they are in a range from 0-1.)"
   ]
  },
  {
   "cell_type": "code",
   "execution_count": 21,
   "metadata": {},
   "outputs": [],
   "source": [
    "# TODO: Complete the scale function\n",
    "def scale(x, feature_range=(-1, 1)):\n",
    "    ''' Scale takes in an image x and returns that image, scaled\n",
    "       with a feature_range of pixel values from -1 to 1. \n",
    "       This function assumes that the input x is already scaled from 0-1.'''\n",
    "    # assume x is scaled to (0, 1)\n",
    "    # scale to feature_range and return scaled x\n",
    "    x_min, x_max =feature_range\n",
    "    x= x*(x_max - x_min) + x_min\n",
    "    \n",
    "    return x\n",
    "    "
   ]
  },
  {
   "cell_type": "code",
   "execution_count": 22,
   "metadata": {},
   "outputs": [
    {
     "name": "stdout",
     "output_type": "stream",
     "text": [
      "Min:  tensor(-0.7804)\n",
      "Max:  tensor(0.9922)\n"
     ]
    }
   ],
   "source": [
    "\"\"\"\n",
    "DON'T MODIFY ANYTHING IN THIS CELL THAT IS BELOW THIS LINE\n",
    "\"\"\"\n",
    "# check scaled range\n",
    "# should be close to -1 to 1\n",
    "img = images[0]\n",
    "scaled_img = scale(img)\n",
    "\n",
    "print('Min: ', scaled_img.min())\n",
    "print('Max: ', scaled_img.max())"
   ]
  },
  {
   "cell_type": "markdown",
   "metadata": {},
   "source": [
    "---\n",
    "# Define the Model\n",
    "\n",
    "A GAN is comprised of two adversarial networks, a discriminator and a generator.\n",
    "\n",
    "## Discriminator\n",
    "\n",
    "Your first task will be to define the discriminator. This is a convolutional classifier like you've built before, only without any maxpooling layers. To deal with this complex data, it's suggested you use a deep network with **normalization**. You are also allowed to create any helper functions that may be useful.\n",
    "\n",
    "#### Exercise: Complete the Discriminator class\n",
    "* The inputs to the discriminator are 32x32x3 tensor images\n",
    "* The output should be a single value that will indicate whether a given image is real or fake\n"
   ]
  },
  {
   "cell_type": "code",
   "execution_count": 23,
   "metadata": {},
   "outputs": [],
   "source": [
    "import torch.nn as nn\n",
    "import torch.nn.functional as F"
   ]
  },
  {
   "cell_type": "code",
   "execution_count": 35,
   "metadata": {},
   "outputs": [],
   "source": [
    "# helper conv function\n",
    "def conv(in_channels, out_channels, kernel_size, stride=2, padding=1, batch_norm=True):\n",
    "    layers = []\n",
    "    layers.append(nn.Conv2d(in_channels, out_channels, kernel_size, \n",
    "                            stride, padding, bias=False))\n",
    "    if batch_norm:\n",
    "        layers.append(nn.BatchNorm2d(out_channels))\n",
    "        \n",
    "    return nn.Sequential(*layers)"
   ]
  },
  {
   "cell_type": "code",
   "execution_count": 37,
   "metadata": {},
   "outputs": [
    {
     "name": "stdout",
     "output_type": "stream",
     "text": [
      "Tests Passed\n"
     ]
    }
   ],
   "source": [
    "class Discriminator(nn.Module):\n",
    "\n",
    "    def __init__(self, conv_dim):\n",
    "        \"\"\"\n",
    "        Initialize the Discriminator Module\n",
    "        :param conv_dim: The depth of the first convolutional layer\n",
    "        \"\"\"\n",
    "        super(Discriminator, self).__init__()\n",
    "\n",
    "        self.conv_dim = conv_dim\n",
    "        \n",
    "        # complete init function\n",
    "        self.conv_1 = conv(3, conv_dim, 4, batch_norm=False)\n",
    "        self.conv_2 = conv(conv_dim, conv_dim*2, 4)\n",
    "        self.conv_3 = conv(conv_dim*2, conv_dim*4, 4)\n",
    "        \n",
    "        self.fc = nn.Linear(conv_dim*4*4*4, 1)\n",
    "        \n",
    "        self.dropout = nn.Dropout(p=.5)\n",
    "        \n",
    "\n",
    "    def forward(self, x):\n",
    "        \"\"\"\n",
    "        Forward propagation of the neural network\n",
    "        :param x: The input to the neural network     \n",
    "        :return: Discriminator logits; the output of the neural network\n",
    "        \"\"\"\n",
    "        # define feedforward behavior\n",
    "        x = F.leaky_relu(self.conv_1(x), 0.2)\n",
    "        x = self.dropout(x)\n",
    "        x = F.leaky_relu(self.conv_2(x), 0.2)\n",
    "        x = self.dropout(x)\n",
    "        x = F.leaky_relu(self.conv_3(x), 0.2)\n",
    "        x = self.dropout(x)\n",
    "        \n",
    "        x = x.view(-1, self.conv_dim*4*4*4)\n",
    "        \n",
    "        x = self.fc(x)\n",
    "        \n",
    "        return x\n",
    "    \n",
    "\"\"\"\n",
    "DON'T MODIFY ANYTHING IN THIS CELL THAT IS BELOW THIS LINE\n",
    "\"\"\"\n",
    "tests.test_discriminator(Discriminator)"
   ]
  },
  {
   "cell_type": "markdown",
   "metadata": {},
   "source": [
    "## Generator\n",
    "\n",
    "The generator should upsample an input and generate a *new* image of the same size as our training data `32x32x3`. This should be mostly transpose convolutional layers with normalization applied to the outputs.\n",
    "\n",
    "#### Exercise: Complete the Generator class\n",
    "* The inputs to the generator are vectors of some length `z_size`\n",
    "* The output should be a image of shape `32x32x3`"
   ]
  },
  {
   "cell_type": "code",
   "execution_count": 40,
   "metadata": {},
   "outputs": [],
   "source": [
    "def deconv(in_channels, out_channels, kernel_size, stride=2, padding=1, batch_norm=True):\n",
    "    layers = []\n",
    "    layers.append(nn.ConvTranspose2d(in_channels, out_channels, kernel_size, \n",
    "                            stride, padding, bias=False))\n",
    "    if batch_norm:\n",
    "        layers.append(nn.BatchNorm2d(out_channels))\n",
    "        \n",
    "    return nn.Sequential(*layers)"
   ]
  },
  {
   "cell_type": "code",
   "execution_count": 42,
   "metadata": {},
   "outputs": [
    {
     "name": "stdout",
     "output_type": "stream",
     "text": [
      "Tests Passed\n"
     ]
    }
   ],
   "source": [
    "class Generator(nn.Module):\n",
    "    \n",
    "    def __init__(self, z_size, conv_dim):\n",
    "        \"\"\"\n",
    "        Initialize the Generator Module\n",
    "        :param z_size: The length of the input latent vector, z\n",
    "        :param conv_dim: The depth of the inputs to the *last* transpose convolutional layer\n",
    "        \"\"\"\n",
    "        super(Generator, self).__init__()\n",
    "\n",
    "        self.conv_dim = conv_dim\n",
    "        # complete init function\n",
    "        self.fc = nn.Linear(z_size, conv_dim*4*4*4)\n",
    "        \n",
    "        self.deconv_1 = deconv(conv_dim*4, conv_dim*2, 4)\n",
    "        self.deconv_2 = deconv(conv_dim*2, conv_dim, 4)\n",
    "        self.deconv_3 = deconv(conv_dim, 3, 4, batch_norm=False)\n",
    "        \n",
    "        self.dropout = nn.Dropout(p=.5)\n",
    "        \n",
    "\n",
    "    def forward(self, x):\n",
    "        \"\"\"\n",
    "        Forward propagation of the neural network\n",
    "        :param x: The input to the neural network     \n",
    "        :return: A 32x32x3 Tensor image as output\n",
    "        \"\"\"\n",
    "        # define feedforward behavior\n",
    "        x = self.fc(x)\n",
    "        \n",
    "        x = x.view(-1, self.conv_dim*4, 4, 4) # reshape to (batch_size, depth, 4, 4)\n",
    "        \n",
    "        x = F.relu(self.deconv_1(x))\n",
    "        x = self.dropout(x)\n",
    "        x = F.relu(self.deconv_2(x))\n",
    "        x = self.dropout(x)\n",
    "        x = torch.tanh(self.deconv_3(x))\n",
    "        \n",
    "        return x\n",
    "\n",
    "\"\"\"\n",
    "DON'T MODIFY ANYTHING IN THIS CELL THAT IS BELOW THIS LINE\n",
    "\"\"\"\n",
    "tests.test_generator(Generator)"
   ]
  },
  {
   "cell_type": "markdown",
   "metadata": {},
   "source": [
    "## Initialize the weights of your networks\n",
    "\n",
    "To help your models converge, you should initialize the weights of the convolutional and linear layers in your model. From reading the [original DCGAN paper](https://arxiv.org/pdf/1511.06434.pdf), they say:\n",
    "> All weights were initialized from a zero-centered Normal distribution with standard deviation 0.02.\n",
    "\n",
    "So, your next task will be to define a weight initialization function that does just this!\n",
    "\n",
    "You can refer back to the lesson on weight initialization or even consult existing model code, such as that from [the `networks.py` file in CycleGAN Github repository](https://github.com/junyanz/pytorch-CycleGAN-and-pix2pix/blob/master/models/networks.py) to help you complete this function.\n",
    "\n",
    "#### Exercise: Complete the weight initialization function\n",
    "\n",
    "* This should initialize only **convolutional** and **linear** layers\n",
    "* Initialize the weights to a normal distribution, centered around 0, with a standard deviation of 0.02.\n",
    "* The bias terms, if they exist, may be left alone or set to 0."
   ]
  },
  {
   "cell_type": "code",
   "execution_count": 51,
   "metadata": {},
   "outputs": [],
   "source": [
    "def weights_init_normal(m):\n",
    "    \"\"\"\n",
    "    Applies initial weights to certain layers in a model .\n",
    "    The weights are taken from a normal distribution \n",
    "    with mean = 0, std dev = 0.02.\n",
    "    :param m: A module or layer in a network    \n",
    "    \"\"\"\n",
    "    # classname will be something like:\n",
    "    # `Conv`, `BatchNorm2d`, `Linear`, etc.\n",
    "    classname = m.__class__.__name__\n",
    "    \n",
    "    # TODO: Apply initial weights to convolutional and linear layers\n",
    "    if classname.find('Conv2d') != -1 and classname.find('Linear') != -1:\n",
    "        m.weight.data.normal_(0, 0.02)\n",
    "        m.bias.data.fill_(0)"
   ]
  },
  {
   "cell_type": "markdown",
   "metadata": {
    "collapsed": true
   },
   "source": [
    "## Build complete network\n",
    "\n",
    "Define your models' hyperparameters and instantiate the discriminator and generator from the classes defined above. Make sure you've passed in the correct input arguments."
   ]
  },
  {
   "cell_type": "code",
   "execution_count": 52,
   "metadata": {},
   "outputs": [],
   "source": [
    "\"\"\"\n",
    "DON'T MODIFY ANYTHING IN THIS CELL THAT IS BELOW THIS LINE\n",
    "\"\"\"\n",
    "def build_network(d_conv_dim, g_conv_dim, z_size):\n",
    "    # define discriminator and generator\n",
    "    D = Discriminator(d_conv_dim)\n",
    "    G = Generator(z_size=z_size, conv_dim=g_conv_dim)\n",
    "\n",
    "    # initialize model weights\n",
    "    D.apply(weights_init_normal)\n",
    "    G.apply(weights_init_normal)\n",
    "\n",
    "    print(D)\n",
    "    print()\n",
    "    print(G)\n",
    "    \n",
    "    return D, G\n"
   ]
  },
  {
   "cell_type": "markdown",
   "metadata": {},
   "source": [
    "#### Exercise: Define model hyperparameters"
   ]
  },
  {
   "cell_type": "code",
   "execution_count": 53,
   "metadata": {},
   "outputs": [
    {
     "name": "stdout",
     "output_type": "stream",
     "text": [
      "Discriminator(\n",
      "  (conv_1): Sequential(\n",
      "    (0): Conv2d(3, 32, kernel_size=(4, 4), stride=(2, 2), padding=(1, 1), bias=False)\n",
      "  )\n",
      "  (conv_2): Sequential(\n",
      "    (0): Conv2d(32, 64, kernel_size=(4, 4), stride=(2, 2), padding=(1, 1), bias=False)\n",
      "    (1): BatchNorm2d(64, eps=1e-05, momentum=0.1, affine=True, track_running_stats=True)\n",
      "  )\n",
      "  (conv_3): Sequential(\n",
      "    (0): Conv2d(64, 128, kernel_size=(4, 4), stride=(2, 2), padding=(1, 1), bias=False)\n",
      "    (1): BatchNorm2d(128, eps=1e-05, momentum=0.1, affine=True, track_running_stats=True)\n",
      "  )\n",
      "  (fc): Linear(in_features=2048, out_features=1, bias=True)\n",
      "  (dropout): Dropout(p=0.5)\n",
      ")\n",
      "\n",
      "Generator(\n",
      "  (fc): Linear(in_features=3, out_features=2048, bias=True)\n",
      "  (deconv_1): Sequential(\n",
      "    (0): ConvTranspose2d(128, 64, kernel_size=(4, 4), stride=(2, 2), padding=(1, 1), bias=False)\n",
      "    (1): BatchNorm2d(64, eps=1e-05, momentum=0.1, affine=True, track_running_stats=True)\n",
      "  )\n",
      "  (deconv_2): Sequential(\n",
      "    (0): ConvTranspose2d(64, 32, kernel_size=(4, 4), stride=(2, 2), padding=(1, 1), bias=False)\n",
      "    (1): BatchNorm2d(32, eps=1e-05, momentum=0.1, affine=True, track_running_stats=True)\n",
      "  )\n",
      "  (deconv_3): Sequential(\n",
      "    (0): ConvTranspose2d(32, 3, kernel_size=(4, 4), stride=(2, 2), padding=(1, 1), bias=False)\n",
      "  )\n",
      "  (dropout): Dropout(p=0.5)\n",
      ")\n"
     ]
    }
   ],
   "source": [
    "# Define model hyperparams\n",
    "d_conv_dim = 32\n",
    "g_conv_dim = 32\n",
    "z_size = 3\n",
    "\n",
    "\n",
    "\"\"\"\n",
    "DON'T MODIFY ANYTHING IN THIS CELL THAT IS BELOW THIS LINE\n",
    "\"\"\"\n",
    "D, G = build_network(d_conv_dim, g_conv_dim, z_size)"
   ]
  },
  {
   "cell_type": "markdown",
   "metadata": {},
   "source": [
    "### Training on GPU\n",
    "\n",
    "Check if you can train on GPU. Here, we'll set this as a boolean variable `train_on_gpu`. Later, you'll be responsible for making sure that \n",
    ">* Models,\n",
    "* Model inputs, and\n",
    "* Loss function arguments\n",
    "\n",
    "Are moved to GPU, where appropriate."
   ]
  },
  {
   "cell_type": "code",
   "execution_count": 54,
   "metadata": {},
   "outputs": [
    {
     "name": "stdout",
     "output_type": "stream",
     "text": [
      "Training on GPU!\n"
     ]
    }
   ],
   "source": [
    "\"\"\"\n",
    "DON'T MODIFY ANYTHING IN THIS CELL\n",
    "\"\"\"\n",
    "import torch\n",
    "\n",
    "# Check for a GPU\n",
    "train_on_gpu = torch.cuda.is_available()\n",
    "if not train_on_gpu:\n",
    "    print('No GPU found. Please use a GPU to train your neural network.')\n",
    "else:\n",
    "    print('Training on GPU!')"
   ]
  },
  {
   "cell_type": "markdown",
   "metadata": {},
   "source": [
    "---\n",
    "## Discriminator and Generator Losses\n",
    "\n",
    "Now we need to calculate the losses for both types of adversarial networks.\n",
    "\n",
    "### Discriminator Losses\n",
    "\n",
    "> * For the discriminator, the total loss is the sum of the losses for real and fake images, `d_loss = d_real_loss + d_fake_loss`. \n",
    "* Remember that we want the discriminator to output 1 for real images and 0 for fake images, so we need to set up the losses to reflect that.\n",
    "\n",
    "\n",
    "### Generator Loss\n",
    "\n",
    "The generator loss will look similar only with flipped labels. The generator's goal is to get the discriminator to *think* its generated images are *real*.\n",
    "\n",
    "#### Exercise: Complete real and fake loss functions\n",
    "\n",
    "**You may choose to use either cross entropy or a least squares error loss to complete the following `real_loss` and `fake_loss` functions.**"
   ]
  },
  {
   "cell_type": "code",
   "execution_count": 55,
   "metadata": {},
   "outputs": [],
   "source": [
    "def real_loss(D_out, smooth=False):\n",
    "    '''Calculates how close discriminator outputs are to being real.\n",
    "       param, D_out: discriminator logits\n",
    "       return: real loss'''\n",
    "    batch_size = D_out.size(0)\n",
    "    if smooth:\n",
    "        labels = torch.ones(batch_size)*.9\n",
    "    else:\n",
    "        labels = torch.ones(batch_size)\n",
    "    if train_on_gpu:\n",
    "        labels = labels.cuda()\n",
    "    criterion = nn.BCEWithLogitsLoss()\n",
    "    loss = criterion(D_out.squeeze(), labels)\n",
    "    return loss\n",
    "\n",
    "def fake_loss(D_out):\n",
    "    '''Calculates how close discriminator outputs are to being fake.\n",
    "       param, D_out: discriminator logits\n",
    "       return: fake loss'''\n",
    "    batch_size = D_out.size(0)\n",
    "    labels = torch.zeros(batch_size)\n",
    "    if train_on_gpu:\n",
    "        labels = labels.cuda()\n",
    "    criterion = nn.BCEWithLogitsLoss()\n",
    "    loss = criterion(D_out.squeeze(), labels)\n",
    "    return loss"
   ]
  },
  {
   "cell_type": "markdown",
   "metadata": {},
   "source": [
    "## Optimizers\n",
    "\n",
    "#### Exercise: Define optimizers for your Discriminator (D) and Generator (G)\n",
    "\n",
    "Define optimizers for your models with appropriate hyperparameters."
   ]
  },
  {
   "cell_type": "code",
   "execution_count": 56,
   "metadata": {},
   "outputs": [],
   "source": [
    "import torch.optim as optim\n",
    "\n",
    "# Create optimizers for the discriminator D and generator G\n",
    "d_optimizer = optim.Adam(D.parameters(), lr=0.0002, betas=[0.5, 0.999])\n",
    "g_optimizer = optim.Adam(G.parameters(), lr=0.0002, betas=[0.5, 0.999])"
   ]
  },
  {
   "cell_type": "markdown",
   "metadata": {},
   "source": [
    "---\n",
    "## Training\n",
    "\n",
    "Training will involve alternating between training the discriminator and the generator. You'll use your functions `real_loss` and `fake_loss` to help you calculate the discriminator losses.\n",
    "\n",
    "* You should train the discriminator by alternating on real and fake images\n",
    "* Then the generator, which tries to trick the discriminator and should have an opposing loss function\n",
    "\n",
    "\n",
    "#### Saving Samples\n",
    "\n",
    "You've been given some code to print out some loss statistics and save some generated \"fake\" samples."
   ]
  },
  {
   "cell_type": "markdown",
   "metadata": {},
   "source": [
    "#### Exercise: Complete the training function\n",
    "\n",
    "Keep in mind that, if you've moved your models to GPU, you'll also have to move any model inputs to GPU."
   ]
  },
  {
   "cell_type": "code",
   "execution_count": 57,
   "metadata": {},
   "outputs": [],
   "source": [
    "def train(D, G, n_epochs, print_every=50):\n",
    "    '''Trains adversarial networks for some number of epochs\n",
    "       param, D: the discriminator network\n",
    "       param, G: the generator network\n",
    "       param, n_epochs: number of epochs to train for\n",
    "       param, print_every: when to print and record the models' losses\n",
    "       return: D and G losses'''\n",
    "    \n",
    "    # move models to GPU\n",
    "    if train_on_gpu:\n",
    "        D.cuda()\n",
    "        G.cuda()\n",
    "\n",
    "    # keep track of loss and generated, \"fake\" samples\n",
    "    samples = []\n",
    "    losses = []\n",
    "\n",
    "    # Get some fixed data for sampling. These are images that are held\n",
    "    # constant throughout training, and allow us to inspect the model's performance\n",
    "    sample_size=16\n",
    "    fixed_z = np.random.uniform(-1, 1, size=(sample_size, z_size))\n",
    "    fixed_z = torch.from_numpy(fixed_z).float()\n",
    "    # move z to GPU if available\n",
    "    if train_on_gpu:\n",
    "        fixed_z = fixed_z.cuda()\n",
    "\n",
    "    # epoch training loop\n",
    "    for epoch in range(n_epochs):\n",
    "\n",
    "        # batch training loop\n",
    "        for batch_i, (real_images, _) in enumerate(celeba_train_loader):\n",
    "\n",
    "            batch_size = real_images.size(0)\n",
    "            real_images = scale(real_images)\n",
    "\n",
    "            if train_on_gpu:\n",
    "                real_images = real_images.cuda()\n",
    "            # ===============================================\n",
    "            #         YOUR CODE HERE: TRAIN THE NETWORKS\n",
    "            # ===============================================\n",
    "            \n",
    "            # 1. Train the discriminator on real and fake images\n",
    "            d_optimizer.zero_grad()\n",
    "            \n",
    "            D_real = D(real_images)\n",
    "            d_real_loss = real_loss(D_real, smooth=True)\n",
    "            \n",
    "            z = np.random.uniform(-1, 1, size=(batch_size, z_size))\n",
    "            z = torch.from_numpy(z).float()\n",
    "            \n",
    "            if train_on_gpu:\n",
    "                z = z.cuda()\n",
    "                \n",
    "            fake_images = G(z)\n",
    "            D_fake = D(fake_images)\n",
    "            d_fake_loss = fake_loss(D_fake)\n",
    "            \n",
    "            d_loss = d_real_loss + d_fake_loss\n",
    "            d_loss.backward()\n",
    "            d_optimizer.step()\n",
    "\n",
    "            # 2. Train the generator with an adversarial loss\n",
    "            g_optimizer.zero_grad()\n",
    "            \n",
    "            z = np.random.uniform(-1, 1, size=(batch_size, z_size))\n",
    "            z = torch.from_numpy(z).float()\n",
    "            \n",
    "            if train_on_gpu:\n",
    "                z = z.cuda()\n",
    "                \n",
    "            fake_images = G(z)\n",
    "            D_fake = D(fake_images)\n",
    "            g_loss = real_loss(D_fake)\n",
    "            g_loss.backward()\n",
    "            g_optimizer.step()\n",
    "            \n",
    "            \n",
    "            # ===============================================\n",
    "            #              END OF YOUR CODE\n",
    "            # ===============================================\n",
    "\n",
    "            # Print some loss stats\n",
    "            if batch_i % print_every == 0:\n",
    "                # append discriminator loss and generator loss\n",
    "                losses.append((d_loss.item(), g_loss.item()))\n",
    "                # print discriminator and generator loss\n",
    "                print('Epoch [{:5d}/{:5d}] | d_loss: {:6.4f} | g_loss: {:6.4f}'.format(\n",
    "                        epoch+1, n_epochs, d_loss.item(), g_loss.item()))\n",
    "\n",
    "\n",
    "        ## AFTER EACH EPOCH##    \n",
    "        # this code assumes your generator is named G, feel free to change the name\n",
    "        # generate and save sample, fake images\n",
    "        G.eval() # for generating samples\n",
    "        samples_z = G(fixed_z)\n",
    "        samples.append(samples_z)\n",
    "        G.train() # back to training mode\n",
    "\n",
    "    # Save training generator samples\n",
    "    with open('train_samples.pkl', 'wb') as f:\n",
    "        pkl.dump(samples, f)\n",
    "    \n",
    "    # finally return losses\n",
    "    return losses"
   ]
  },
  {
   "cell_type": "markdown",
   "metadata": {},
   "source": [
    "Set your number of training epochs and train your GAN!"
   ]
  },
  {
   "cell_type": "code",
   "execution_count": 58,
   "metadata": {
    "scrolled": false
   },
   "outputs": [
    {
     "name": "stdout",
     "output_type": "stream",
     "text": [
      "Epoch [    1/   10] | d_loss: 1.4252 | g_loss: 0.7009\n",
      "Epoch [    1/   10] | d_loss: 1.2420 | g_loss: 1.0208\n",
      "Epoch [    1/   10] | d_loss: 1.0207 | g_loss: 1.3312\n",
      "Epoch [    1/   10] | d_loss: 0.8873 | g_loss: 2.0763\n",
      "Epoch [    1/   10] | d_loss: 0.9282 | g_loss: 1.8540\n",
      "Epoch [    1/   10] | d_loss: 1.0344 | g_loss: 1.7195\n",
      "Epoch [    1/   10] | d_loss: 1.0573 | g_loss: 1.4177\n",
      "Epoch [    1/   10] | d_loss: 1.0045 | g_loss: 1.6178\n",
      "Epoch [    1/   10] | d_loss: 1.1667 | g_loss: 1.4232\n",
      "Epoch [    1/   10] | d_loss: 1.1188 | g_loss: 1.7125\n",
      "Epoch [    1/   10] | d_loss: 1.0705 | g_loss: 1.5796\n",
      "Epoch [    1/   10] | d_loss: 1.0688 | g_loss: 1.6451\n",
      "Epoch [    1/   10] | d_loss: 1.0373 | g_loss: 1.5893\n",
      "Epoch [    1/   10] | d_loss: 1.0046 | g_loss: 1.6550\n",
      "Epoch [    1/   10] | d_loss: 1.0378 | g_loss: 1.6197\n",
      "Epoch [    2/   10] | d_loss: 0.9963 | g_loss: 1.8597\n",
      "Epoch [    2/   10] | d_loss: 1.0533 | g_loss: 1.4482\n",
      "Epoch [    2/   10] | d_loss: 1.1027 | g_loss: 1.6926\n",
      "Epoch [    2/   10] | d_loss: 1.0026 | g_loss: 1.6538\n",
      "Epoch [    2/   10] | d_loss: 0.9535 | g_loss: 1.7795\n",
      "Epoch [    2/   10] | d_loss: 0.8580 | g_loss: 1.8082\n",
      "Epoch [    2/   10] | d_loss: 1.0569 | g_loss: 1.6676\n",
      "Epoch [    2/   10] | d_loss: 0.9919 | g_loss: 1.5104\n",
      "Epoch [    2/   10] | d_loss: 0.9847 | g_loss: 1.5829\n",
      "Epoch [    2/   10] | d_loss: 1.0214 | g_loss: 1.5343\n",
      "Epoch [    2/   10] | d_loss: 1.0516 | g_loss: 1.6653\n",
      "Epoch [    2/   10] | d_loss: 0.8812 | g_loss: 1.8097\n",
      "Epoch [    2/   10] | d_loss: 0.8539 | g_loss: 1.8221\n",
      "Epoch [    2/   10] | d_loss: 1.1326 | g_loss: 1.5881\n",
      "Epoch [    2/   10] | d_loss: 1.0254 | g_loss: 1.7652\n",
      "Epoch [    3/   10] | d_loss: 1.0069 | g_loss: 1.7021\n",
      "Epoch [    3/   10] | d_loss: 0.9799 | g_loss: 1.6811\n",
      "Epoch [    3/   10] | d_loss: 0.9292 | g_loss: 1.8655\n",
      "Epoch [    3/   10] | d_loss: 0.9121 | g_loss: 1.6875\n",
      "Epoch [    3/   10] | d_loss: 0.8861 | g_loss: 2.0835\n",
      "Epoch [    3/   10] | d_loss: 0.8572 | g_loss: 1.7098\n",
      "Epoch [    3/   10] | d_loss: 0.8121 | g_loss: 2.2545\n",
      "Epoch [    3/   10] | d_loss: 0.9078 | g_loss: 2.0443\n",
      "Epoch [    3/   10] | d_loss: 0.9390 | g_loss: 2.1252\n",
      "Epoch [    3/   10] | d_loss: 0.8258 | g_loss: 2.2265\n",
      "Epoch [    3/   10] | d_loss: 0.8546 | g_loss: 1.8625\n",
      "Epoch [    3/   10] | d_loss: 0.8156 | g_loss: 2.1357\n",
      "Epoch [    3/   10] | d_loss: 0.8288 | g_loss: 1.7539\n",
      "Epoch [    3/   10] | d_loss: 0.8624 | g_loss: 1.6191\n",
      "Epoch [    3/   10] | d_loss: 0.7778 | g_loss: 1.9232\n",
      "Epoch [    4/   10] | d_loss: 0.7198 | g_loss: 2.1557\n",
      "Epoch [    4/   10] | d_loss: 0.8543 | g_loss: 2.3171\n",
      "Epoch [    4/   10] | d_loss: 0.9754 | g_loss: 2.6728\n",
      "Epoch [    4/   10] | d_loss: 0.7613 | g_loss: 2.3950\n",
      "Epoch [    4/   10] | d_loss: 0.7435 | g_loss: 1.8514\n",
      "Epoch [    4/   10] | d_loss: 0.7273 | g_loss: 2.9034\n",
      "Epoch [    4/   10] | d_loss: 0.6230 | g_loss: 2.4564\n",
      "Epoch [    4/   10] | d_loss: 0.8558 | g_loss: 2.1785\n",
      "Epoch [    4/   10] | d_loss: 0.5798 | g_loss: 2.8399\n",
      "Epoch [    4/   10] | d_loss: 0.6660 | g_loss: 2.0687\n",
      "Epoch [    4/   10] | d_loss: 0.7032 | g_loss: 2.4489\n",
      "Epoch [    4/   10] | d_loss: 0.6632 | g_loss: 2.9523\n",
      "Epoch [    4/   10] | d_loss: 0.6406 | g_loss: 2.6104\n",
      "Epoch [    4/   10] | d_loss: 0.6265 | g_loss: 2.8345\n",
      "Epoch [    4/   10] | d_loss: 0.6219 | g_loss: 2.4137\n",
      "Epoch [    5/   10] | d_loss: 0.6163 | g_loss: 2.5807\n",
      "Epoch [    5/   10] | d_loss: 0.6841 | g_loss: 2.8119\n",
      "Epoch [    5/   10] | d_loss: 0.6322 | g_loss: 2.5071\n",
      "Epoch [    5/   10] | d_loss: 0.7313 | g_loss: 1.9771\n",
      "Epoch [    5/   10] | d_loss: 0.6858 | g_loss: 2.9304\n",
      "Epoch [    5/   10] | d_loss: 0.6457 | g_loss: 3.2604\n",
      "Epoch [    5/   10] | d_loss: 0.5783 | g_loss: 2.9740\n",
      "Epoch [    5/   10] | d_loss: 0.6497 | g_loss: 2.7900\n",
      "Epoch [    5/   10] | d_loss: 0.7359 | g_loss: 1.8778\n",
      "Epoch [    5/   10] | d_loss: 0.8642 | g_loss: 2.4189\n",
      "Epoch [    5/   10] | d_loss: 0.6538 | g_loss: 3.4099\n",
      "Epoch [    5/   10] | d_loss: 0.5615 | g_loss: 2.4993\n",
      "Epoch [    5/   10] | d_loss: 0.5954 | g_loss: 2.4889\n",
      "Epoch [    5/   10] | d_loss: 0.5706 | g_loss: 2.8300\n",
      "Epoch [    5/   10] | d_loss: 0.6085 | g_loss: 2.8075\n",
      "Epoch [    6/   10] | d_loss: 0.6044 | g_loss: 2.5060\n",
      "Epoch [    6/   10] | d_loss: 0.6267 | g_loss: 2.6184\n",
      "Epoch [    6/   10] | d_loss: 0.6284 | g_loss: 2.1773\n",
      "Epoch [    6/   10] | d_loss: 0.6432 | g_loss: 3.0243\n",
      "Epoch [    6/   10] | d_loss: 0.6987 | g_loss: 2.3979\n",
      "Epoch [    6/   10] | d_loss: 0.6945 | g_loss: 2.0281\n",
      "Epoch [    6/   10] | d_loss: 0.8523 | g_loss: 3.3543\n",
      "Epoch [    6/   10] | d_loss: 0.6016 | g_loss: 2.4603\n",
      "Epoch [    6/   10] | d_loss: 0.5293 | g_loss: 3.9181\n",
      "Epoch [    6/   10] | d_loss: 0.5218 | g_loss: 2.9158\n",
      "Epoch [    6/   10] | d_loss: 0.5144 | g_loss: 3.9814\n",
      "Epoch [    6/   10] | d_loss: 0.4975 | g_loss: 2.9206\n",
      "Epoch [    6/   10] | d_loss: 0.5514 | g_loss: 2.9733\n",
      "Epoch [    6/   10] | d_loss: 0.5170 | g_loss: 3.4178\n",
      "Epoch [    6/   10] | d_loss: 0.5392 | g_loss: 3.9259\n",
      "Epoch [    7/   10] | d_loss: 0.5196 | g_loss: 3.6246\n",
      "Epoch [    7/   10] | d_loss: 0.5221 | g_loss: 3.2163\n",
      "Epoch [    7/   10] | d_loss: 0.4490 | g_loss: 3.6733\n",
      "Epoch [    7/   10] | d_loss: 0.5027 | g_loss: 3.5136\n",
      "Epoch [    7/   10] | d_loss: 0.4703 | g_loss: 4.0790\n",
      "Epoch [    7/   10] | d_loss: 0.5779 | g_loss: 4.3710\n",
      "Epoch [    7/   10] | d_loss: 0.4882 | g_loss: 3.7094\n",
      "Epoch [    7/   10] | d_loss: 0.5769 | g_loss: 3.0402\n",
      "Epoch [    7/   10] | d_loss: 0.6832 | g_loss: 2.1321\n",
      "Epoch [    7/   10] | d_loss: 0.5495 | g_loss: 3.1306\n",
      "Epoch [    7/   10] | d_loss: 0.4974 | g_loss: 4.5008\n",
      "Epoch [    7/   10] | d_loss: 0.5148 | g_loss: 2.3149\n",
      "Epoch [    7/   10] | d_loss: 0.5243 | g_loss: 2.5762\n",
      "Epoch [    7/   10] | d_loss: 0.5290 | g_loss: 3.5397\n",
      "Epoch [    7/   10] | d_loss: 0.4814 | g_loss: 4.2321\n",
      "Epoch [    8/   10] | d_loss: 0.6055 | g_loss: 3.4597\n",
      "Epoch [    8/   10] | d_loss: 0.4697 | g_loss: 4.7999\n",
      "Epoch [    8/   10] | d_loss: 0.5477 | g_loss: 4.2168\n",
      "Epoch [    8/   10] | d_loss: 0.5373 | g_loss: 3.7267\n",
      "Epoch [    8/   10] | d_loss: 0.4581 | g_loss: 3.7844\n",
      "Epoch [    8/   10] | d_loss: 0.4675 | g_loss: 3.5772\n",
      "Epoch [    8/   10] | d_loss: 0.4708 | g_loss: 3.0874\n",
      "Epoch [    8/   10] | d_loss: 0.8595 | g_loss: 3.9892\n",
      "Epoch [    8/   10] | d_loss: 0.5626 | g_loss: 2.8968\n",
      "Epoch [    8/   10] | d_loss: 0.5664 | g_loss: 2.9251\n",
      "Epoch [    8/   10] | d_loss: 0.4968 | g_loss: 3.1833\n",
      "Epoch [    8/   10] | d_loss: 0.5427 | g_loss: 3.3735\n",
      "Epoch [    8/   10] | d_loss: 0.4519 | g_loss: 3.8354\n",
      "Epoch [    8/   10] | d_loss: 0.6226 | g_loss: 2.1403\n",
      "Epoch [    8/   10] | d_loss: 0.4708 | g_loss: 3.0222\n",
      "Epoch [    9/   10] | d_loss: 0.4699 | g_loss: 4.3283\n",
      "Epoch [    9/   10] | d_loss: 0.5621 | g_loss: 3.2155\n",
      "Epoch [    9/   10] | d_loss: 0.4402 | g_loss: 4.3596\n",
      "Epoch [    9/   10] | d_loss: 0.4949 | g_loss: 2.3147\n",
      "Epoch [    9/   10] | d_loss: 0.4461 | g_loss: 3.5160\n",
      "Epoch [    9/   10] | d_loss: 0.4665 | g_loss: 4.1620\n",
      "Epoch [    9/   10] | d_loss: 0.5014 | g_loss: 3.7664\n",
      "Epoch [    9/   10] | d_loss: 0.4555 | g_loss: 4.1036\n",
      "Epoch [    9/   10] | d_loss: 0.4313 | g_loss: 4.5365\n",
      "Epoch [    9/   10] | d_loss: 0.4515 | g_loss: 3.2663\n",
      "Epoch [    9/   10] | d_loss: 0.4656 | g_loss: 4.0904\n",
      "Epoch [    9/   10] | d_loss: 0.4608 | g_loss: 3.6591\n",
      "Epoch [    9/   10] | d_loss: 0.4733 | g_loss: 3.2252\n",
      "Epoch [    9/   10] | d_loss: 0.5146 | g_loss: 3.8327\n",
      "Epoch [    9/   10] | d_loss: 0.5398 | g_loss: 3.5431\n",
      "Epoch [   10/   10] | d_loss: 0.4838 | g_loss: 4.2063\n",
      "Epoch [   10/   10] | d_loss: 0.4710 | g_loss: 4.3838\n",
      "Epoch [   10/   10] | d_loss: 0.4518 | g_loss: 3.9890\n",
      "Epoch [   10/   10] | d_loss: 0.4717 | g_loss: 4.3018\n",
      "Epoch [   10/   10] | d_loss: 0.4486 | g_loss: 3.8509\n",
      "Epoch [   10/   10] | d_loss: 0.4590 | g_loss: 3.9378\n",
      "Epoch [   10/   10] | d_loss: 0.4777 | g_loss: 3.2505\n",
      "Epoch [   10/   10] | d_loss: 0.5358 | g_loss: 3.7292\n",
      "Epoch [   10/   10] | d_loss: 0.4541 | g_loss: 4.1836\n",
      "Epoch [   10/   10] | d_loss: 0.4476 | g_loss: 4.0982\n",
      "Epoch [   10/   10] | d_loss: 0.4841 | g_loss: 3.6293\n",
      "Epoch [   10/   10] | d_loss: 0.5998 | g_loss: 2.1648\n",
      "Epoch [   10/   10] | d_loss: 0.3973 | g_loss: 4.4355\n",
      "Epoch [   10/   10] | d_loss: 0.4393 | g_loss: 3.9235\n",
      "Epoch [   10/   10] | d_loss: 0.3995 | g_loss: 4.8654\n"
     ]
    }
   ],
   "source": [
    "# set number of epochs \n",
    "n_epochs = 10\n",
    "\n",
    "\n",
    "\"\"\"\n",
    "DON'T MODIFY ANYTHING IN THIS CELL\n",
    "\"\"\"\n",
    "# call training function\n",
    "losses = train(D, G, n_epochs=n_epochs)"
   ]
  },
  {
   "cell_type": "markdown",
   "metadata": {
    "collapsed": true
   },
   "source": [
    "## Training loss\n",
    "\n",
    "Plot the training losses for the generator and discriminator, recorded after each epoch."
   ]
  },
  {
   "cell_type": "code",
   "execution_count": 59,
   "metadata": {},
   "outputs": [
    {
     "data": {
      "text/plain": [
       "<matplotlib.legend.Legend at 0x7f23f85c4b70>"
      ]
     },
     "execution_count": 59,
     "metadata": {},
     "output_type": "execute_result"
    },
    {
     "data": {
      "image/png": "[encoded data removed]",
      "text/plain": [
       "<matplotlib.figure.Figure at 0x7f23f8525550>"
      ]
     },
     "metadata": {
      "needs_background": "light"
     },
     "output_type": "display_data"
    }
   ],
   "source": [
    "fig, ax = plt.subplots()\n",
    "losses = np.array(losses)\n",
    "plt.plot(losses.T[0], label='Discriminator', alpha=0.5)\n",
    "plt.plot(losses.T[1], label='Generator', alpha=0.5)\n",
    "plt.title(\"Training Losses\")\n",
    "plt.legend()"
   ]
  },
  {
   "cell_type": "markdown",
   "metadata": {
    "collapsed": true
   },
   "source": [
    "## Generator samples from training\n",
    "\n",
    "View samples of images from the generator, and answer a question about the strengths and weaknesses of your trained models."
   ]
  },
  {
   "cell_type": "code",
   "execution_count": 60,
   "metadata": {},
   "outputs": [],
   "source": [
    "# helper function for viewing a list of passed in sample images\n",
    "def view_samples(epoch, samples):\n",
    "    fig, axes = plt.subplots(figsize=(16,4), nrows=2, ncols=8, sharey=True, sharex=True)\n",
    "    for ax, img in zip(axes.flatten(), samples[epoch]):\n",
    "        img = img.detach().cpu().numpy()\n",
    "        img = np.transpose(img, (1, 2, 0))\n",
    "        img = ((img + 1)*255 / (2)).astype(np.uint8)\n",
    "        ax.xaxis.set_visible(False)\n",
    "        ax.yaxis.set_visible(False)\n",
    "        im = ax.imshow(img.reshape((32,32,3)))"
   ]
  },
  {
   "cell_type": "code",
   "execution_count": 61,
   "metadata": {},
   "outputs": [],
   "source": [
    "# Load samples from generator, taken while training\n",
    "with open('train_samples.pkl', 'rb') as f:\n",
    "    samples = pkl.load(f)"
   ]
  },
  {
   "cell_type": "code",
   "execution_count": 62,
   "metadata": {},
   "outputs": [
    {
     "data": {
      "image/png": "[encoded data removed]",
      "text/plain": [
       "<matplotlib.figure.Figure at 0x7f23f85b9668>"
      ]
     },
     "metadata": {
      "needs_background": "light"
     },
     "output_type": "display_data"
    }
   ],
   "source": [
    "_ = view_samples(-1, samples)"
   ]
  },
  {
   "cell_type": "markdown",
   "metadata": {},
   "source": [
    "### Question: What do you notice about your generated samples and how might you improve this model?\n",
    "When you answer this question, consider the following factors:\n",
    "* The dataset is biased; it is made of \"celebrity\" faces that are mostly white\n",
    "* Model size; larger models have the opportunity to learn more features in a data feature space\n",
    "* Optimization strategy; optimizers and number of epochs affect your final result\n"
   ]
  },
  {
   "cell_type": "markdown",
   "metadata": {},
   "source": [
    "**Answer:** \n",
    "\n",
    "* As evident by generated samples, dataset is biased. We might consider in the future using a more varied datasetand a larger batch.\n",
    "* We used 3 layers for both the discriminator and the generator, adding more layer is expected to improve performance, especially with generator which will help produce more convincing faces.\n",
    "* it seems the the generator suffers from bais error, even if we increase the number of epochs, due to limitations of: a) optimizers borrowed from the DCGAN paper, b) few convlotional layers, c) bais error."
   ]
  },
  {
   "cell_type": "markdown",
   "metadata": {},
   "source": [
    "### Submitting This Project\n",
    "When submitting this project, make sure to run all the cells before saving the notebook. Save the notebook file as \"dlnd_face_generation.ipynb\" and save it as a HTML file under \"File\" -> \"Download as\". Include the \"problem_unittests.py\" files in your submission."
   ]
  }
 ],
 "metadata": {
  "kernelspec": {
   "display_name": "Python 3",
   "language": "python",
   "name": "python3"
  },
  "language_info": {
   "codemirror_mode": {
    "name": "ipython",
    "version": 3
   },
   "file_extension": ".py",
   "mimetype": "text/x-python",
   "name": "python",
   "nbconvert_exporter": "python",
   "pygments_lexer": "ipython3",
   "version": "3.6.3"
  }
 },
 "nbformat": 4,
 "nbformat_minor": 1
}
